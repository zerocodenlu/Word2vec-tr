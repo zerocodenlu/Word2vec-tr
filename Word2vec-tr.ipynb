{
 "cells": [
  {
   "cell_type": "code",
   "execution_count": 1,
   "metadata": {},
   "outputs": [],
   "source": [
    "#turkish word to vectors\n",
    "from gensim.models import KeyedVectors\n",
    "model = KeyedVectors.load_word2vec_format('tr-word2veq-20190320', binary=True)"
   ]
  },
  {
   "cell_type": "code",
   "execution_count": 2,
   "metadata": {},
   "outputs": [
    {
     "data": {
      "text/plain": [
       "[('hayvancılıkla', 0.5180819034576416),\n",
       " ('tüccar', 0.5109403133392334),\n",
       " ('geçinen', 0.5045769214630127),\n",
       " ('varlıklı', 0.5036733746528625),\n",
       " ('terzi', 0.4949059784412384),\n",
       " ('ailenin', 0.49042996764183044),\n",
       " ('fırıncı', 0.4856249690055847),\n",
       " ('marangoz', 0.484136164188385),\n",
       " ('ailede', 0.47814029455184937),\n",
       " ('köylü', 0.47404077649116516)]"
      ]
     },
     "execution_count": 2,
     "metadata": {},
     "output_type": "execute_result"
    }
   ],
   "source": [
    "model.most_similar(positive=[\"hayvancılık\",\"çiftçi\"],negative=[\"tarım\"])"
   ]
  },
  {
   "cell_type": "code",
   "execution_count": 56,
   "metadata": {},
   "outputs": [
    {
     "data": {
      "text/plain": [
       "[('tüccar', 0.6452620029449463),\n",
       " ('köylü', 0.6014080047607422),\n",
       " ('esnaf', 0.5860419273376465),\n",
       " ('varlıklı', 0.5763851404190063),\n",
       " ('terzi', 0.566638708114624),\n",
       " ('madenci', 0.5637122392654419),\n",
       " ('fırıncı', 0.5577396154403687),\n",
       " ('marangoz', 0.5534372329711914),\n",
       " ('tacir', 0.5525609850883484),\n",
       " ('emeklisi', 0.540393590927124)]"
      ]
     },
     "execution_count": 56,
     "metadata": {},
     "output_type": "execute_result"
    }
   ],
   "source": [
    "model.most_similar('çiftçi')"
   ]
  },
  {
   "cell_type": "code",
   "execution_count": 57,
   "metadata": {},
   "outputs": [],
   "source": [
    "def analogy(x1, x2, y1):\n",
    "    result = model.most_similar(positive=[y1, x2], negative=[x1])\n",
    "    return result[0][0]"
   ]
  },
  {
   "cell_type": "code",
   "execution_count": 58,
   "metadata": {},
   "outputs": [
    {
     "data": {
      "text/plain": [
       "[('gübreler', 0.7927945852279663),\n",
       " ('tatlandırıcı', 0.7799556851387024),\n",
       " ('asbest', 0.776979386806488),\n",
       " ('sabun', 0.7763432860374451),\n",
       " ('kömürü', 0.7729085683822632),\n",
       " ('yağının', 0.7727136611938477),\n",
       " ('yakacak', 0.7693600654602051),\n",
       " ('suni', 0.7635424137115479),\n",
       " ('hammadde', 0.7628278732299805),\n",
       " ('hububat', 0.7620609998703003)]"
      ]
     },
     "execution_count": 58,
     "metadata": {},
     "output_type": "execute_result"
    }
   ],
   "source": [
    "model.most_similar('gübre')"
   ]
  },
  {
   "cell_type": "code",
   "execution_count": 59,
   "metadata": {},
   "outputs": [
    {
     "data": {
      "text/plain": [
       "'ilacı'"
      ]
     },
     "execution_count": 59,
     "metadata": {},
     "output_type": "execute_result"
    }
   ],
   "source": [
    "analogy('gübreler','yağlar','ilaç')"
   ]
  },
  {
   "cell_type": "code",
   "execution_count": 6,
   "metadata": {},
   "outputs": [
    {
     "data": {
      "text/plain": [
       "[('şam', 0.5800196528434753),\n",
       " ('lübnan', 0.5740453004837036),\n",
       " ('mezopotamya', 0.5544248223304749),\n",
       " ('hindistan', 0.5469415783882141),\n",
       " ('sudan', 0.5364479422569275),\n",
       " ('libya', 0.5182512998580933),\n",
       " ('iran', 0.5181330442428589),\n",
       " ('suriye', 0.5169676542282104),\n",
       " ('kavalalı', 0.5102651119232178),\n",
       " ('memlûk', 0.5093244910240173)]"
      ]
     },
     "execution_count": 6,
     "metadata": {},
     "output_type": "execute_result"
    }
   ],
   "source": [
    "model.similar_by_word(\"mısır\")"
   ]
  },
  {
   "cell_type": "code",
   "execution_count": 4,
   "metadata": {},
   "outputs": [
    {
     "name": "stdout",
     "output_type": "stream",
     "text": [
      "tümsek\n"
     ]
    },
    {
     "name": "stderr",
     "output_type": "stream",
     "text": [
      "/home/zerocode/anaconda3/lib/python3.6/site-packages/gensim/models/keyedvectors.py:858: FutureWarning: arrays to stack must be passed as a \"sequence\" type such as list or tuple. Support for non-sequence iterables such as generators is deprecated as of NumPy 1.16 and will raise an error in the future.\n",
      "  vectors = vstack(self.word_vec(word, use_norm=True) for word in used_words).astype(REAL)\n"
     ]
    }
   ],
   "source": [
    "print(model.doesnt_match(\"kahvaltı mısır yemek tümsek\".split()))\n"
   ]
  },
  {
   "cell_type": "code",
   "execution_count": 7,
   "metadata": {},
   "outputs": [
    {
     "data": {
      "text/plain": [
       "[('arpa', 0.8571434617042542),\n",
       " ('fındık', 0.788848876953125),\n",
       " ('tahıl', 0.7790365219116211),\n",
       " ('patates', 0.7690032720565796),\n",
       " ('nohut', 0.7517105937004089),\n",
       " ('hububat', 0.7443339824676514),\n",
       " ('tahıllar', 0.7381788492202759),\n",
       " ('domates', 0.7340308427810669),\n",
       " ('fasulye', 0.7337827086448669),\n",
       " ('pirinç', 0.7266877889633179)]"
      ]
     },
     "execution_count": 7,
     "metadata": {},
     "output_type": "execute_result"
    }
   ],
   "source": [
    "model.similar_by_word(\"buğday\")"
   ]
  },
  {
   "cell_type": "code",
   "execution_count": 13,
   "metadata": {},
   "outputs": [
    {
     "name": "stdout",
     "output_type": "stream",
     "text": [
      "17.2612\n"
     ]
    }
   ],
   "source": [
    "#Use $pip3 install pyemd, if you get any related error.\n",
    "\n",
    "setntence1=\"ziraat bankasından başkalarının bilgileri benim mail adresime geliyor\".lower().split()\n",
    "setntence2=\"ziraat bankası hgs talimatı\".lower().split()\n",
    "similarity = model.wmdistance(setntence1, setntence2)\n",
    "print(\"{:.4f}\".format(similarity))"
   ]
  },
  {
   "cell_type": "code",
   "execution_count": 14,
   "metadata": {},
   "outputs": [
    {
     "name": "stdout",
     "output_type": "stream",
     "text": [
      "0.6468\n"
     ]
    }
   ],
   "source": [
    "sim = model.n_similarity(['buğday', 'arpa'], ['mısır', 'patates'])\n",
    "print(\"{:.4f}\".format(sim))"
   ]
  },
  {
   "cell_type": "code",
   "execution_count": 15,
   "metadata": {},
   "outputs": [
    {
     "data": {
      "text/plain": [
       "(400,)"
      ]
     },
     "execution_count": 15,
     "metadata": {},
     "output_type": "execute_result"
    }
   ],
   "source": [
    "vector = model['buğday']  # numpy vector of a word\n",
    "vector.shape"
   ]
  },
  {
   "cell_type": "code",
   "execution_count": 23,
   "metadata": {},
   "outputs": [
    {
     "data": {
      "text/plain": [
       "426574"
      ]
     },
     "execution_count": 23,
     "metadata": {},
     "output_type": "execute_result"
    }
   ],
   "source": [
    "#how many tokens?\n",
    "s=model.vocab.keys()\n",
    "len(s)"
   ]
  }
 ],
 "metadata": {
  "kernelspec": {
   "display_name": "Python 3",
   "language": "python",
   "name": "python3"
  },
  "language_info": {
   "codemirror_mode": {
    "name": "ipython",
    "version": 3
   },
   "file_extension": ".py",
   "mimetype": "text/x-python",
   "name": "python",
   "nbconvert_exporter": "python",
   "pygments_lexer": "ipython3",
   "version": "3.6.5"
  }
 },
 "nbformat": 4,
 "nbformat_minor": 2
}
