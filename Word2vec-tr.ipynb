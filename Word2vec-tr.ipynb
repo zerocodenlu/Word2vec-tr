{
 "cells": [
  {
   "cell_type": "code",
   "execution_count": 54,
   "metadata": {},
   "outputs": [],
   "source": [
    "#turkish word to vectors\n",
    "from gensim.models import KeyedVectors\n",
    "model = KeyedVectors.load_word2vec_format('tr-word2veq-20190320', binary=True)"
   ]
  },
  {
   "cell_type": "code",
   "execution_count": 55,
   "metadata": {},
   "outputs": [
    {
     "data": {
      "text/plain": [
       "[('hayvancılıkla', 0.5180819034576416),\n",
       " ('tüccar', 0.5109403133392334),\n",
       " ('geçinen', 0.5045769214630127),\n",
       " ('varlıklı', 0.5036733746528625),\n",
       " ('terzi', 0.4949059784412384),\n",
       " ('ailenin', 0.49042996764183044),\n",
       " ('fırıncı', 0.4856249690055847),\n",
       " ('marangoz', 0.484136164188385),\n",
       " ('ailede', 0.47814029455184937),\n",
       " ('köylü', 0.47404077649116516)]"
      ]
     },
     "execution_count": 55,
     "metadata": {},
     "output_type": "execute_result"
    }
   ],
   "source": [
    "model.most_similar(positive=[\"hayvancılık\",\"çiftçi\"],negative=[\"tarım\"])"
   ]
  },
  {
   "cell_type": "code",
   "execution_count": 56,
   "metadata": {},
   "outputs": [
    {
     "data": {
      "text/plain": [
       "[('tüccar', 0.6452620029449463),\n",
       " ('köylü', 0.6014080047607422),\n",
       " ('esnaf', 0.5860419273376465),\n",
       " ('varlıklı', 0.5763851404190063),\n",
       " ('terzi', 0.566638708114624),\n",
       " ('madenci', 0.5637122392654419),\n",
       " ('fırıncı', 0.5577396154403687),\n",
       " ('marangoz', 0.5534372329711914),\n",
       " ('tacir', 0.5525609850883484),\n",
       " ('emeklisi', 0.540393590927124)]"
      ]
     },
     "execution_count": 56,
     "metadata": {},
     "output_type": "execute_result"
    }
   ],
   "source": [
    "model.most_similar('çiftçi')"
   ]
  },
  {
   "cell_type": "code",
   "execution_count": 57,
   "metadata": {},
   "outputs": [],
   "source": [
    "def analogy(x1, x2, y1):\n",
    "    result = model.most_similar(positive=[y1, x2], negative=[x1])\n",
    "    return result[0][0]"
   ]
  },
  {
   "cell_type": "code",
   "execution_count": 58,
   "metadata": {},
   "outputs": [
    {
     "data": {
      "text/plain": [
       "[('gübreler', 0.7927945852279663),\n",
       " ('tatlandırıcı', 0.7799556851387024),\n",
       " ('asbest', 0.776979386806488),\n",
       " ('sabun', 0.7763432860374451),\n",
       " ('kömürü', 0.7729085683822632),\n",
       " ('yağının', 0.7727136611938477),\n",
       " ('yakacak', 0.7693600654602051),\n",
       " ('suni', 0.7635424137115479),\n",
       " ('hammadde', 0.7628278732299805),\n",
       " ('hububat', 0.7620609998703003)]"
      ]
     },
     "execution_count": 58,
     "metadata": {},
     "output_type": "execute_result"
    }
   ],
   "source": [
    "model.most_similar('gübre')"
   ]
  },
  {
   "cell_type": "code",
   "execution_count": 59,
   "metadata": {},
   "outputs": [
    {
     "data": {
      "text/plain": [
       "'ilacı'"
      ]
     },
     "execution_count": 59,
     "metadata": {},
     "output_type": "execute_result"
    }
   ],
   "source": [
    "analogy('gübreler','yağlar','ilaç')"
   ]
  }
 ],
 "metadata": {
  "kernelspec": {
   "display_name": "Python 3",
   "language": "python",
   "name": "python3"
  },
  "language_info": {
   "codemirror_mode": {
    "name": "ipython",
    "version": 3
   },
   "file_extension": ".py",
   "mimetype": "text/x-python",
   "name": "python",
   "nbconvert_exporter": "python",
   "pygments_lexer": "ipython3",
   "version": "3.6.5"
  }
 },
 "nbformat": 4,
 "nbformat_minor": 2
}
